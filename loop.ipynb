{
 "cells": [
  {
   "cell_type": "markdown",
   "metadata": {},
   "source": [
    "### Loop "
   ]
  },
  {
   "cell_type": "code",
   "execution_count": 2,
   "metadata": {},
   "outputs": [
    {
     "name": "stdout",
     "output_type": "stream",
     "text": [
      "Hello world\n",
      "\n",
      "Hello world\n"
     ]
    }
   ],
   "source": [
    "print(\"Hello world\") \n",
    "print()\n",
    "print(\"Hello world\") \n"
   ]
  },
  {
   "cell_type": "code",
   "execution_count": 5,
   "metadata": {},
   "outputs": [
    {
     "name": "stdout",
     "output_type": "stream",
     "text": [
      "Hello everyone Hello world Hello india\n"
     ]
    }
   ],
   "source": [
    "var1 = \"Hello world\"\n",
    "var2 = \"Hello india\"\n",
    "print(\"Hello everyone\",var1,var2)"
   ]
  },
  {
   "cell_type": "code",
   "execution_count": 8,
   "metadata": {},
   "outputs": [
    {
     "name": "stdout",
     "output_type": "stream",
     "text": [
      "25\n"
     ]
    }
   ],
   "source": [
    "\n",
    "print(5*5)"
   ]
  },
  {
   "cell_type": "code",
   "execution_count": 10,
   "metadata": {},
   "outputs": [
    {
     "name": "stdout",
     "output_type": "stream",
     "text": [
      "Hello world\n",
      "Hello world\n",
      "Hello world\n",
      "Hello world\n",
      "Hello world\n",
      "Hello world\n",
      "Hello world\n",
      "Hello world\n",
      "Hello world\n",
      "Hello world\n",
      "Hello world\n",
      "Hello world\n",
      "Hello world\n"
     ]
    }
   ],
   "source": [
    "print(\"Hello world\") \n",
    "print(\"Hello world\") \n",
    "print(\"Hello world\") \n",
    "print(\"Hello world\") \n",
    "print(\"Hello world\") \n",
    "print(\"Hello world\") \n",
    "print(\"Hello world\") \n",
    "print(\"Hello world\") \n",
    "print(\"Hello world\") \n",
    "print(\"Hello world\") \n",
    "print(\"Hello world\") \n",
    "print(\"Hello world\") \n",
    "print(\"Hello world\") \n"
   ]
  },
  {
   "cell_type": "code",
   "execution_count": 11,
   "metadata": {},
   "outputs": [
    {
     "name": "stdout",
     "output_type": "stream",
     "text": [
      "Hello world\n"
     ]
    }
   ],
   "source": [
    "print(\"Hello world\") \n"
   ]
  },
  {
   "cell_type": "code",
   "execution_count": null,
   "metadata": {},
   "outputs": [],
   "source": [
    "# time complexity and space complexity \n",
    "# types of loop  \n",
    "# 1. for (pre-knowledge of iteration)\n",
    "# 2. while (no- pre-knowledg)\n",
    "# 3. do while (not in python)"
   ]
  },
  {
   "cell_type": "code",
   "execution_count": 12,
   "metadata": {},
   "outputs": [
    {
     "name": "stdout",
     "output_type": "stream",
     "text": [
      "Hello world\n"
     ]
    }
   ],
   "source": [
    "print(\"Hello world\") "
   ]
  },
  {
   "cell_type": "code",
   "execution_count": 21,
   "metadata": {},
   "outputs": [
    {
     "name": "stdout",
     "output_type": "stream",
     "text": [
      "5  hello world\n",
      "6  hello world\n",
      "7  hello world\n",
      "8  hello world\n",
      "9  hello world\n",
      "10  hello world\n"
     ]
    }
   ],
   "source": [
    "for ritik in range(5,11):\n",
    "    print(ritik,\" hello world\")"
   ]
  },
  {
   "cell_type": "code",
   "execution_count": 22,
   "metadata": {},
   "outputs": [
    {
     "name": "stdout",
     "output_type": "stream",
     "text": [
      "0\n",
      "1\n",
      "2\n",
      "3\n",
      "4\n"
     ]
    }
   ],
   "source": [
    "for i in range(5):\n",
    "    print(i)"
   ]
  },
  {
   "cell_type": "code",
   "execution_count": null,
   "metadata": {},
   "outputs": [],
   "source": [
    "ls = [10,20,30,50,40,20,36]\n"
   ]
  },
  {
   "cell_type": "code",
   "execution_count": 7,
   "metadata": {},
   "outputs": [
    {
     "name": "stdout",
     "output_type": "stream",
     "text": [
      "2\n",
      "4\n",
      "6\n",
      "8\n",
      "10\n",
      "12\n",
      "14\n",
      "16\n",
      "18\n",
      "20\n",
      "\n",
      "3\n",
      "6\n",
      "9\n",
      "12\n",
      "15\n",
      "18\n",
      "21\n",
      "24\n",
      "27\n",
      "30\n",
      "\n",
      "4\n",
      "8\n",
      "12\n",
      "16\n",
      "20\n",
      "24\n",
      "28\n",
      "32\n",
      "36\n",
      "40\n",
      "\n",
      "5\n",
      "10\n",
      "15\n",
      "20\n",
      "25\n",
      "30\n",
      "35\n",
      "40\n",
      "45\n",
      "50\n",
      "\n"
     ]
    }
   ],
   "source": [
    "num = int(input(\"enter your number : \")) #5 ==> 2,3,4,5\n",
    "if num <= 10:\n",
    "    for i in range(2,num+1):  # 2 - 5   i = 2\n",
    "        for j in range(1,11):\n",
    "            print(i*j)\n",
    "        print()\n",
    "else:\n",
    "    print(\"plz enter less than 10\")"
   ]
  },
  {
   "cell_type": "code",
   "execution_count": 10,
   "metadata": {},
   "outputs": [
    {
     "name": "stdout",
     "output_type": "stream",
     "text": [
      "1\n",
      "1\n",
      "2\n",
      "3\n",
      "4\n",
      "5\n",
      "\n",
      "2\n",
      "1\n",
      "2\n",
      "3\n",
      "4\n",
      "5\n",
      "\n"
     ]
    }
   ],
   "source": [
    "for i in range(1,3):\n",
    "    print(i)\n",
    "    for j in range(1,6):\n",
    "        print(j)\n",
    "    print()"
   ]
  },
  {
   "cell_type": "code",
   "execution_count": 12,
   "metadata": {},
   "outputs": [
    {
     "name": "stdout",
     "output_type": "stream",
     "text": [
      "10\n",
      "20\n",
      "30\n",
      "50\n",
      "40\n",
      "20\n",
      "36\n"
     ]
    }
   ],
   "source": [
    "ls = [10,20,30,50,40,20,36] \n",
    "for i in range(len(ls)):\n",
    "    print(ls[i])"
   ]
  },
  {
   "cell_type": "code",
   "execution_count": 14,
   "metadata": {},
   "outputs": [
    {
     "name": "stdout",
     "output_type": "stream",
     "text": [
      "10\n",
      "20\n",
      "30\n",
      "50\n",
      "40\n",
      "20\n",
      "36\n"
     ]
    }
   ],
   "source": [
    "ls = [10,20,30,50,40,20,36] \n",
    "for item in ls:\n",
    "    print(item)"
   ]
  },
  {
   "cell_type": "code",
   "execution_count": 17,
   "metadata": {},
   "outputs": [
    {
     "name": "stdout",
     "output_type": "stream",
     "text": [
      "10 ===> Even\n",
      "20 ===> Even\n",
      "30 ===> Even\n",
      "50 ===> Even\n",
      "40 ===> Even\n",
      "55 ===>  odd\n",
      "20 ===> Even\n",
      "36 ===> Even\n"
     ]
    }
   ],
   "source": [
    "ls = [10,20,30,50,40,55,20,36] \n",
    "for item in ls:\n",
    "    if item % 2 == 0:\n",
    "        print(item,\"===>\",\"Even\")\n",
    "    else:\n",
    "        print(item ,\"===> \",'odd')"
   ]
  },
  {
   "cell_type": "code",
   "execution_count": 20,
   "metadata": {},
   "outputs": [
    {
     "name": "stdout",
     "output_type": "stream",
     "text": [
      "50\n",
      "36\n",
      "20\n",
      "55\n",
      "40\n",
      "10\n",
      "30\n"
     ]
    }
   ],
   "source": [
    "ls = {10,20,30,50,40,55,20,36}\n",
    "for item in ls:\n",
    "    print(item)"
   ]
  },
  {
   "cell_type": "code",
   "execution_count": 21,
   "metadata": {},
   "outputs": [
    {
     "name": "stdout",
     "output_type": "stream",
     "text": [
      "u\n",
      "p\n",
      "f\n",
      "l\n",
      "a\n",
      "i\n",
      "r\n",
      "s\n"
     ]
    }
   ],
   "source": [
    "st = \"upflairs\"\n",
    "for char in st:\n",
    "    print(char)"
   ]
  },
  {
   "cell_type": "code",
   "execution_count": null,
   "metadata": {},
   "outputs": [
    {
     "name": "stdout",
     "output_type": "stream",
     "text": [
      "u ===> 2\n",
      "p ===> 3\n",
      "f ===> 1\n",
      "l ===> 2\n",
      "a ===> 5\n",
      "i ===> 2\n",
      "r ===> 3\n",
      "s ===> 2\n",
      "  ===> 4\n",
      "p ===> 3\n",
      "v ===> 1\n",
      "t ===> 3\n",
      "  ===> 4\n",
      "l ===> 2\n",
      "t ===> 3\n",
      "d ===> 1\n",
      "  ===> 4\n",
      "j ===> 2\n",
      "a ===> 5\n",
      "i ===> 2\n",
      "p ===> 3\n",
      "u ===> 2\n",
      "r ===> 3\n",
      "  ===> 4\n",
      "r ===> 3\n",
      "a ===> 5\n",
      "j ===> 2\n",
      "a ===> 5\n",
      "s ===> 2\n",
      "t ===> 3\n",
      "h ===> 1\n",
      "a ===> 5\n",
      "n ===> 1\n"
     ]
    }
   ],
   "source": [
    "st = \"upflairs pvt ltd jaipur rajasthan\"\n",
    "# print(st.count('u'))\n",
    "dt = {}\n",
    "for char in st:\n",
    "    # print(i)\n",
    "    print(char,\"===>\",st.count(char))\n",
    "\n",
    "# dt ={ char:coutn value} \n",
    "{\"u\":2,\"p\":3,\"f\":2}"
   ]
  },
  {
   "cell_type": "code",
   "execution_count": 28,
   "metadata": {},
   "outputs": [
    {
     "name": "stdout",
     "output_type": "stream",
     "text": [
      "A\n",
      "B\n",
      "C\n",
      "D\n"
     ]
    }
   ],
   "source": [
    "dt = {\"A\":10,\"B\":20,\"C\":30,\"D\":40}\n",
    "\n",
    "for i in dt:\n",
    "    print(i)"
   ]
  },
  {
   "cell_type": "code",
   "execution_count": 36,
   "metadata": {},
   "outputs": [
    {
     "name": "stdout",
     "output_type": "stream",
     "text": [
      "A\n",
      "B\n",
      "C\n",
      "D\n"
     ]
    }
   ],
   "source": [
    "dt = {\"A\":10,\"B\":20,\"C\":30,\"D\":40}\n",
    "\n",
    "for i in dt.keys():\n",
    "    print(i)"
   ]
  },
  {
   "cell_type": "code",
   "execution_count": 37,
   "metadata": {},
   "outputs": [
    {
     "name": "stdout",
     "output_type": "stream",
     "text": [
      "10\n",
      "20\n",
      "30\n",
      "40\n"
     ]
    }
   ],
   "source": [
    "dt = {\"A\":10,\"B\":20,\"C\":30,\"D\":40}\n",
    "\n",
    "for i in dt.values():\n",
    "    print(i)"
   ]
  },
  {
   "cell_type": "code",
   "execution_count": 38,
   "metadata": {},
   "outputs": [
    {
     "data": {
      "text/plain": [
       "dict_items([('A', 10), ('B', 20), ('C', 30), ('D', 40)])"
      ]
     },
     "execution_count": 38,
     "metadata": {},
     "output_type": "execute_result"
    }
   ],
   "source": [
    "dt = {\"A\":10,\"B\":20,\"C\":30,\"D\":40}\n",
    "dt.items()"
   ]
  },
  {
   "cell_type": "code",
   "execution_count": 39,
   "metadata": {},
   "outputs": [
    {
     "name": "stdout",
     "output_type": "stream",
     "text": [
      "('A', 10)\n",
      "('B', 20)\n",
      "('C', 30)\n",
      "('D', 40)\n"
     ]
    }
   ],
   "source": [
    "dt = {\"A\":10,\"B\":20,\"C\":30,\"D\":40}\n",
    "\n",
    "for i in dt.items():  # [(),(),()]\n",
    "    print(i)"
   ]
  },
  {
   "cell_type": "code",
   "execution_count": null,
   "metadata": {},
   "outputs": [],
   "source": []
  },
  {
   "cell_type": "code",
   "execution_count": 41,
   "metadata": {},
   "outputs": [
    {
     "name": "stdout",
     "output_type": "stream",
     "text": [
      "key  :  A ===> 10\n",
      "key  :  B ===> 20\n",
      "key  :  C ===> 30\n",
      "key  :  D ===> 40\n"
     ]
    }
   ],
   "source": [
    "dt = {\"A\":10,\"B\":20,\"C\":30,\"D\":40}\n",
    "\n",
    "for i in dt.items():  # [(key,valu),(),()]\n",
    "    print(\"key  : \",i[0],\"===>\",i[1])"
   ]
  },
  {
   "cell_type": "code",
   "execution_count": 31,
   "metadata": {},
   "outputs": [
    {
     "name": "stdout",
     "output_type": "stream",
     "text": [
      "dict_keys(['A', 'B', 'C', 'D'])\n",
      "dict_values([10, 20, 30, 40])\n"
     ]
    }
   ],
   "source": [
    "dt = {\"A\":10,\"B\":20,\"C\":30,\"D\":40}\n",
    "print(dt.keys())\n",
    "print(dt.values())\n",
    "\n"
   ]
  },
  {
   "cell_type": "code",
   "execution_count": null,
   "metadata": {},
   "outputs": [],
   "source": [
    "break , continue "
   ]
  },
  {
   "cell_type": "code",
   "execution_count": 2,
   "metadata": {},
   "outputs": [
    {
     "name": "stdout",
     "output_type": "stream",
     "text": [
      "45.0\n"
     ]
    }
   ],
   "source": [
    "number_ls = [52,45,6,78,58,74,58,69,25,36,14,25] \n",
    "print(sum(number_ls)/len(number_ls))\n"
   ]
  }
 ],
 "metadata": {
  "kernelspec": {
   "display_name": "Python 3",
   "language": "python",
   "name": "python3"
  },
  "language_info": {
   "codemirror_mode": {
    "name": "ipython",
    "version": 3
   },
   "file_extension": ".py",
   "mimetype": "text/x-python",
   "name": "python",
   "nbconvert_exporter": "python",
   "pygments_lexer": "ipython3",
   "version": "3.12.4"
  }
 },
 "nbformat": 4,
 "nbformat_minor": 2
}
