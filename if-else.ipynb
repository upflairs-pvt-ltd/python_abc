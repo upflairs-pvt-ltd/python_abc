{
 "cells": [
  {
   "cell_type": "code",
   "execution_count": 7,
   "metadata": {},
   "outputs": [
    {
     "ename": "ValueError",
     "evalue": "invalid literal for int() with base 10: 'ghj'",
     "output_type": "error",
     "traceback": [
      "\u001b[1;31m---------------------------------------------------------------------------\u001b[0m",
      "\u001b[1;31mValueError\u001b[0m                                Traceback (most recent call last)",
      "Cell \u001b[1;32mIn[7], line 2\u001b[0m\n\u001b[0;32m      1\u001b[0m num1 \u001b[38;5;241m=\u001b[39m \u001b[38;5;28mint\u001b[39m(\u001b[38;5;28minput\u001b[39m(\u001b[38;5;124m\"\u001b[39m\u001b[38;5;124mplz enter first num1 : \u001b[39m\u001b[38;5;124m\"\u001b[39m))\n\u001b[1;32m----> 2\u001b[0m num2 \u001b[38;5;241m=\u001b[39m \u001b[38;5;28;43mint\u001b[39;49m\u001b[43m(\u001b[49m\u001b[38;5;28;43minput\u001b[39;49m\u001b[43m(\u001b[49m\u001b[38;5;124;43m\"\u001b[39;49m\u001b[38;5;124;43mplz enter second num2 : \u001b[39;49m\u001b[38;5;124;43m\"\u001b[39;49m\u001b[43m)\u001b[49m\u001b[43m)\u001b[49m\n\u001b[0;32m      3\u001b[0m output \u001b[38;5;241m=\u001b[39m num1  \u001b[38;5;241m+\u001b[39m num2 \n\u001b[0;32m      4\u001b[0m \u001b[38;5;28mprint\u001b[39m(\u001b[38;5;28mtype\u001b[39m(num1),\u001b[38;5;28mtype\u001b[39m(num2))\n",
      "\u001b[1;31mValueError\u001b[0m: invalid literal for int() with base 10: 'ghj'"
     ]
    }
   ],
   "source": [
    "num1 = int(input(\"plz enter first num1 : \"))\n",
    "num2 = int(input(\"plz enter second num2 : \"))\n",
    "output = num1  + num2 \n",
    "print(type(num1),type(num2))\n",
    "print(output)"
   ]
  },
  {
   "cell_type": "code",
   "execution_count": 6,
   "metadata": {},
   "outputs": [
    {
     "name": "stdout",
     "output_type": "stream",
     "text": [
      "your number  is :  10 * 10\n",
      "your multiplication is :  100\n"
     ]
    }
   ],
   "source": [
    "num1 = int(input(\"plz enter first number : \"))\n",
    "operation = input(\"operation : \")\n",
    "num2 = int(input(\"plz enter second number : \"))\n",
    "print(\"your number  is : \",num1,operation,num2)\n",
    "if operation == \"+\":\n",
    "    print(\"your addition is : \",num1 + num2)\n",
    "elif operation == \"-\":\n",
    "    print(\"your subtraction is : \",num1 - num2)\n",
    "elif operation == \"*\":\n",
    "    print(\"your multiplication is : \",num1 * num2)\n",
    "else:\n",
    "    print(\"invalid input\")\n"
   ]
  },
  {
   "cell_type": "code",
   "execution_count": null,
   "metadata": {},
   "outputs": [],
   "source": [
    "a = 25 \n",
    "b = 36 \n",
    "c = 10 \n",
    "find highest number "
   ]
  },
  {
   "cell_type": "code",
   "execution_count": null,
   "metadata": {},
   "outputs": [],
   "source": [
    "number = input()25  (hind % )\n",
    "if  number kya wo even: \n",
    "    print(even)\n",
    "else:\n",
    "    print(odd) "
   ]
  },
  {
   "cell_type": "code",
   "execution_count": null,
   "metadata": {},
   "outputs": [],
   "source": [
    "number = input()2  (**)\n",
    "if number is even:\n",
    "    print(square(number))\n",
    "else:\n",
    "    pls enter a even number to check square "
   ]
  },
  {
   "cell_type": "code",
   "execution_count": 1,
   "metadata": {},
   "outputs": [
    {
     "name": "stdout",
     "output_type": "stream",
     "text": [
      "0\n",
      "1\n",
      "2\n",
      "3\n",
      "4\n",
      "5\n",
      "6\n",
      "7\n",
      "8\n",
      "9\n"
     ]
    }
   ],
   "source": [
    "for i in range(10):\n",
    "    print(i)"
   ]
  },
  {
   "cell_type": "code",
   "execution_count": 2,
   "metadata": {},
   "outputs": [
    {
     "name": "stdout",
     "output_type": "stream",
     "text": [
      "0\n",
      "1\n",
      "2\n",
      "3\n",
      "4\n",
      "5\n",
      "6\n",
      "7\n"
     ]
    }
   ],
   "source": [
    "ls = [25,63,52,45,85,96,74,5]\n",
    "for i in range(len(ls)):   # 0-7\n",
    "    print(i)"
   ]
  },
  {
   "cell_type": "code",
   "execution_count": 4,
   "metadata": {},
   "outputs": [
    {
     "data": {
      "text/plain": [
       "25"
      ]
     },
     "execution_count": 4,
     "metadata": {},
     "output_type": "execute_result"
    }
   ],
   "source": [
    "ls[0]"
   ]
  },
  {
   "cell_type": "code",
   "execution_count": 6,
   "metadata": {},
   "outputs": [
    {
     "name": "stdout",
     "output_type": "stream",
     "text": [
      "0 >>>>>>>>>>>  25\n",
      "1 >>>>>>>>>>>  63\n",
      "2 >>>>>>>>>>>  52\n",
      "3 >>>>>>>>>>>  45\n",
      "4 >>>>>>>>>>>  85\n",
      "5 >>>>>>>>>>>  96\n",
      "6 >>>>>>>>>>>  74\n",
      "7 >>>>>>>>>>>  5\n"
     ]
    }
   ],
   "source": [
    "ls = [25,63,52,45,85,96,74,5]\n",
    "for i in range(len(ls)):   # 0-7\n",
    "    print(i,\">>>>>>>>>>> \",ls[i])"
   ]
  },
  {
   "cell_type": "code",
   "execution_count": 9,
   "metadata": {},
   "outputs": [
    {
     "data": {
      "text/plain": [
       "445"
      ]
     },
     "execution_count": 9,
     "metadata": {},
     "output_type": "execute_result"
    }
   ],
   "source": [
    "ls = [25,63,52,45,85,96,74,5]\n",
    "sum(ls)"
   ]
  },
  {
   "cell_type": "code",
   "execution_count": 10,
   "metadata": {},
   "outputs": [
    {
     "name": "stdout",
     "output_type": "stream",
     "text": [
      "445\n"
     ]
    }
   ],
   "source": [
    "ls = [25,63,52,45,85,96,74,5]\n",
    "total_sum = 0 \n",
    "for i in range(len(ls)):   # 0-7\n",
    "    total_sum += ls[i] \n",
    "print(total_sum)"
   ]
  },
  {
   "cell_type": "code",
   "execution_count": 13,
   "metadata": {},
   "outputs": [
    {
     "name": "stdout",
     "output_type": "stream",
     "text": [
      "8\n"
     ]
    }
   ],
   "source": [
    "# len(ls) \n",
    "count = 0 \n",
    "for i in range(len(ls)):\n",
    "    count += 1 \n",
    "print(count)"
   ]
  },
  {
   "cell_type": "code",
   "execution_count": null,
   "metadata": {},
   "outputs": [],
   "source": [
    "ls = [25,63,52,45,85,96,74,5]\n",
    "total_sum = 0 \n",
    "for i in range(len(ls)):   # 0-7\n",
    "    total_sum += ls[i] \n",
    "print(total_sum)"
   ]
  },
  {
   "cell_type": "code",
   "execution_count": 19,
   "metadata": {},
   "outputs": [
    {
     "data": {
      "text/plain": [
       "True"
      ]
     },
     "execution_count": 19,
     "metadata": {},
     "output_type": "execute_result"
    }
   ],
   "source": [
    "28 % 2 == 0"
   ]
  },
  {
   "cell_type": "code",
   "execution_count": 20,
   "metadata": {},
   "outputs": [
    {
     "name": "stdout",
     "output_type": "stream",
     "text": [
      "number is odd\n",
      "number is odd\n",
      "number is even\n",
      "number is odd\n",
      "number is odd\n",
      "number is even\n",
      "number is even\n",
      "number is odd\n"
     ]
    }
   ],
   "source": [
    "ls = [25,63,52,45,85,96,74,5] \n",
    "for i in range(len(ls)):\n",
    "    if ls[i] % 2 == 0:\n",
    "        print(\"number is even\")\n",
    "    else:\n",
    "        print(\"number is odd\")"
   ]
  },
  {
   "cell_type": "code",
   "execution_count": 21,
   "metadata": {},
   "outputs": [
    {
     "name": "stdout",
     "output_type": "stream",
     "text": [
      "even no. :  3\n",
      "Odd no. :  5\n"
     ]
    }
   ],
   "source": [
    "ls = [25,63,52,45,85,96,74,5] \n",
    "even_count = 0 \n",
    "odd_count = 0 \n",
    "for i in range(len(ls)):\n",
    "    if ls[i] % 2 == 0:\n",
    "        even_count += 1\n",
    "    else:\n",
    "        odd_count += 1\n",
    "\n",
    "print(\"even no. : \",even_count)\n",
    "print(\"Odd no. : \",odd_count)"
   ]
  },
  {
   "cell_type": "code",
   "execution_count": 23,
   "metadata": {},
   "outputs": [
    {
     "name": "stdout",
     "output_type": "stream",
     "text": [
      "625\n",
      "3969\n",
      "2704\n",
      "2025\n",
      "7225\n",
      "9216\n",
      "5476\n",
      "25\n"
     ]
    }
   ],
   "source": [
    "ls = [25,63,52,45,85,96,74,5] \n",
    "for i in range(len(ls)):\n",
    "    print(ls[i] ** 2) "
   ]
  },
  {
   "cell_type": "code",
   "execution_count": null,
   "metadata": {},
   "outputs": [
    {
     "name": "stdout",
     "output_type": "stream",
     "text": [
      "7 * i = 7\n",
      "7 * i = 14\n",
      "7 * i = 21\n",
      "7 * i = 28\n",
      "7 * i = 35\n",
      "7 * i = 42\n",
      "7 * i = 49\n",
      "7 * i = 56\n",
      "7 * i = 63\n",
      "7 * i = 70\n"
     ]
    }
   ],
   "source": [
    "num = int(input('enter your number : ')) # 2\n",
    "for i in range(1,11):\n",
    "    print(num, \"*\",i,\"=\",num*i)\n",
    "    "
   ]
  },
  {
   "cell_type": "code",
   "execution_count": 33,
   "metadata": {},
   "outputs": [
    {
     "name": "stdout",
     "output_type": "stream",
     "text": [
      "2 * 1 = 2\n",
      "2 * 1 = 4\n"
     ]
    }
   ],
   "source": [
    "print(2 , \"*\",1,\"=\",2)\n",
    "print(2 , \"*\",2,\"=\",4)\n"
   ]
  }
 ],
 "metadata": {
  "kernelspec": {
   "display_name": "Python 3",
   "language": "python",
   "name": "python3"
  },
  "language_info": {
   "codemirror_mode": {
    "name": "ipython",
    "version": 3
   },
   "file_extension": ".py",
   "mimetype": "text/x-python",
   "name": "python",
   "nbconvert_exporter": "python",
   "pygments_lexer": "ipython3",
   "version": "3.12.4"
  }
 },
 "nbformat": 4,
 "nbformat_minor": 2
}
